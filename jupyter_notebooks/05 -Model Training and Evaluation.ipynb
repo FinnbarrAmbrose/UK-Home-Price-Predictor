{
 "cells": [
  {
   "cell_type": "markdown",
   "id": "a8c096a4",
   "metadata": {},
   "source": [
    "# UK House Price Estimator - Model Training and Evaluation\n",
    "\n",
    "\n",
    "## Objective\n",
    "Train a regression model to estimate house prices and evaluate its performance.\n",
    "\n",
    "## Input\n",
    "- `HousePricesRecords_clean.csv`: Cleaned dataset with numeric and categorical features prepared.\n",
    "\n",
    "## Output\n",
    "- Trained regression model\n",
    "- Model evaluation metrics (e.g., MAE, RMSE)\n",
    "- Price prediction examples\n",
    "\n",
    "## Key Tasks\n",
    "- Encode categorical variables\n",
    "- Split the data into training and test sets\n",
    "- Train a regression model (e.g., Linear Regression)\n",
    "- Evaluate model accuracy using test data\n"
   ]
  }
 ],
 "metadata": {
  "kernelspec": {
   "display_name": "Python 3",
   "language": "python",
   "name": "python3"
  },
  "language_info": {
   "codemirror_mode": {
    "name": "ipython",
    "version": 3
   },
   "file_extension": ".py",
   "mimetype": "text/x-python",
   "name": "python",
   "nbconvert_exporter": "python",
   "pygments_lexer": "ipython3",
   "version": "3.12.1"
  }
 },
 "nbformat": 4,
 "nbformat_minor": 5
}
