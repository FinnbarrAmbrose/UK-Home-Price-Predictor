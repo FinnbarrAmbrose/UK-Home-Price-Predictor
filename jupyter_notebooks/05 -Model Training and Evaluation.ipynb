{
 "cells": [
  {
   "cell_type": "markdown",
   "id": "a8c096a4",
   "metadata": {},
   "source": [
    "# UK House Price Estimator - Model Training and Evaluation\n",
    "\n",
    "\n",
    "## Objective\n",
    "Train a regression model to estimate house prices and evaluate its performance.\n",
    "\n",
    "## Input\n",
    "- `HousePricesRecords_clean.csv`: Cleaned dataset with numeric and categorical features prepared.\n",
    "\n",
    "## Output\n",
    "- Trained regression model\n",
    "- Model evaluation metrics (e.g., MAE, RMSE)\n",
    "- Price prediction examples\n",
    "\n",
    "## Key Tasks\n",
    "- Encode categorical variables\n",
    "- Split the data into training and test sets\n",
    "- Train a regression model (e.g., Linear Regression)\n",
    "- Evaluate model accuracy using test data\n"
   ]
  },
  {
   "cell_type": "markdown",
   "id": "027f28d5",
   "metadata": {},
   "source": [
    "## Imports, Load & Split Data"
   ]
  },
  {
   "cell_type": "code",
   "execution_count": null,
   "id": "6ed4b2e4",
   "metadata": {},
   "outputs": [],
   "source": [
    "\n",
    "import os\n",
    "import joblib\n",
    "import pandas as pd\n",
    "import numpy as np\n",
    "import json\n",
    "from sklearn.model_selection import train_test_split\n",
    "from sklearn.linear_model import LinearRegression\n",
    "from sklearn.metrics import r2_score, mean_absolute_error\n",
    "from sklearn.pipeline import Pipeline\n",
    "from sklearn.compose import ColumnTransformer\n",
    "from sklearn.preprocessing import StandardScaler, OneHotEncoder\n",
    "from sklearn.ensemble import RandomForestRegressor\n",
    "from sklearn.model_selection import RandomizedSearchCV      \n",
    "from sklearn.metrics import mean_absolute_error, mean_squared_error, r2_score\n",
    "\n",
    "df = pd.read_csv(\"../outputs/datasets/collection/HousePricesRecords_clean.csv\")\n",
    "y  = df[\"Price\"]\n",
    "X  = df.drop(columns=[\"Price\", \"Date of Transfer\"], errors=\"ignore\")"
   ]
  },
  {
   "cell_type": "markdown",
   "id": "eb11a767",
   "metadata": {},
   "source": [
    "## Features"
   ]
  },
  {
   "cell_type": "code",
   "execution_count": null,
   "id": "6fe65159",
   "metadata": {},
   "outputs": [],
   "source": [
    "numeric_features = [\n",
    "    \"Year\", \"Month\",\n",
    "    \"RegionMedianPrice\", \"RegionSaleCount\",\n",
    "    \"CountyMedianPrice\", \"CountySaleCount\"\n",
    "]\n",
    "\n",
    "categorical_features = [\n",
    "    \"Old/New\", \"Duration\",\n",
    "    \"Town/City\", \"County\", \"PPDCategory Type\",\n",
    "    \"Property_D\", \"Property_F\", \"Property_S\", \"Property_T\",\n",
    "    \"Region\"\n",
    "]"
   ]
  },
  {
   "cell_type": "markdown",
   "id": "1f769b74",
   "metadata": {},
   "source": [
    "## Filter Feature Lists to Available Columns"
   ]
  },
  {
   "cell_type": "code",
   "execution_count": null,
   "id": "77d1c7eb",
   "metadata": {},
   "outputs": [],
   "source": [
    "\n",
    "numeric_features     = [c for c in numeric_features     if c in X.columns]\n",
    "categorical_features = [c for c in categorical_features if c in X.columns]"
   ]
  },
  {
   "cell_type": "markdown",
   "id": "3a4883f8",
   "metadata": {},
   "source": [
    "## Build Preprocessing & Modeling Pipeline\n",
    "\n",
    "Create a Scikit-learn pipeline that standardises numeric features and one-hot encodes categorical features, then fits a Random Forest regressor on the transformed data.\n",
    "\n"
   ]
  },
  {
   "cell_type": "code",
   "execution_count": null,
   "id": "db1d0083",
   "metadata": {},
   "outputs": [],
   "source": [
    "preprocessor = ColumnTransformer([\n",
    "    (\"num\", StandardScaler(), numeric_features),\n",
    "    (\"cat\", OneHotEncoder(handle_unknown=\"ignore\"), categorical_features),\n",
    "])\n",
    "\n",
    "pipeline = Pipeline([\n",
    "    (\"preprocessor\", preprocessor),\n",
    "    (\"regressor\", RandomForestRegressor(random_state=42))\n",
    "])"
   ]
  },
  {
   "cell_type": "markdown",
   "id": "775c270f",
   "metadata": {},
   "source": [
    "## Train-Test Split\n",
    "\n",
    "Divide the dataset into training and testing subsets to evaluate model performance on unseen data."
   ]
  },
  {
   "cell_type": "code",
   "execution_count": null,
   "id": "36608ade",
   "metadata": {},
   "outputs": [],
   "source": [
    "X_train, X_test, y_train, y_test = train_test_split(\n",
    "    X, y,\n",
    "    test_size=0.20,\n",
    "    random_state=42,  \n",
    "    shuffle=True\n",
    ")"
   ]
  }
 ],
 "metadata": {
  "kernelspec": {
   "display_name": "Python 3",
   "language": "python",
   "name": "python3"
  },
  "language_info": {
   "codemirror_mode": {
    "name": "ipython",
    "version": 3
   },
   "file_extension": ".py",
   "mimetype": "text/x-python",
   "name": "python",
   "nbconvert_exporter": "python",
   "pygments_lexer": "ipython3",
   "version": "3.12.1"
  }
 },
 "nbformat": 4,
 "nbformat_minor": 5
}
