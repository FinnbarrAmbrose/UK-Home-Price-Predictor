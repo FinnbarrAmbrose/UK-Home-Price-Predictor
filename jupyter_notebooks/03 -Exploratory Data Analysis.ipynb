{
 "cells": [
  {
   "cell_type": "markdown",
   "id": "3d8404df",
   "metadata": {},
   "source": [
    "# UK House Price Estimator - Exploratory Data Analysis\n",
    "\n",
    "\n",
    "## Objective\n",
    "Understand the structure and relationships in the housing dataset through visual and statistical analysis.\n",
    "\n",
    "## Input\n",
    "- `HousePricesRecords_clean.csv`: Cleaned dataset of UK house sales.\n",
    "\n",
    "## Output\n",
    "- Visualizations of house price distributions and trends.\n",
    "- Correlation heatmap between numerical features.\n",
    "- Initial insights about new builds, regions, and property types.\n",
    "\n",
    "## Key EDA Tasks\n",
    "- Compare average prices by county using a bar chart\n",
    "- Generate a correlation heatmap\n",
    "- Identify high- and low-priced property trends\n"
   ]
  }
 ],
 "metadata": {
  "kernelspec": {
   "display_name": "Python 3",
   "language": "python",
   "name": "python3"
  },
  "language_info": {
   "codemirror_mode": {
    "name": "ipython",
    "version": 3
   },
   "file_extension": ".py",
   "mimetype": "text/x-python",
   "name": "python",
   "nbconvert_exporter": "python",
   "pygments_lexer": "ipython3",
   "version": "3.12.1"
  }
 },
 "nbformat": 4,
 "nbformat_minor": 5
}
