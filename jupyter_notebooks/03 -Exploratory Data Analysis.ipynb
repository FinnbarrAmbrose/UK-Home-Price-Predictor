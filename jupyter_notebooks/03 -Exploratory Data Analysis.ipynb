{
 "cells": [
  {
   "cell_type": "markdown",
   "id": "3671051b",
   "metadata": {},
   "source": [
    "# 03 – Exploratory Data Analysis\n",
    "\n",
    "**Notebook Name:** `03_Exploratory_Data_Analysis.ipynb`"
   ]
  },
  {
   "cell_type": "markdown",
   "id": "1f63f727",
   "metadata": {},
   "source": [
    "## Objectives\n",
    "- Compute summary statistics for numeric fields.\n",
    "- Visualise distribution of `Price` (histogram + KDE, log-scale).\n",
    "- Plot time trends by Year and Year–Month.\n",
    "- Compare average prices by County.\n",
    "- Generate Pearson & Spearman correlation heatmaps."
   ]
  },
  {
   "cell_type": "markdown",
   "id": "94c1db2f",
   "metadata": {},
   "source": [
    "## Inputs\n",
    "- `outputs/datasets/collection/HousePricesRecords_clean.csv`"
   ]
  },
  {
   "cell_type": "markdown",
   "id": "19a11c1f",
   "metadata": {},
   "source": [
    "## Outputs\n",
    "- Histograms, line charts, bar charts, heatmaps\n",
    "- `Key Insights` summary"
   ]
  },
  {
   "cell_type": "markdown",
   "id": "327af0f8",
   "metadata": {},
   "source": [
    "## Libraries & Data Load"
   ]
  },
  {
   "cell_type": "code",
   "execution_count": 4,
   "id": "ba7ae731",
   "metadata": {},
   "outputs": [],
   "source": [
    "import pandas as pd\n",
    "import matplotlib.pyplot as plt\n",
    "import seaborn as sns\n",
    "\n",
    "df_chunk = pd.read_csv(\"../outputs/datasets/collection/HousePricesRecords_clean.csv\")"
   ]
  },
  {
   "cell_type": "markdown",
   "id": "0c73f87d",
   "metadata": {},
   "source": [
    "Descriptive Statistics"
   ]
  },
  {
   "cell_type": "code",
   "execution_count": null,
   "id": "22aee796",
   "metadata": {},
   "outputs": [],
   "source": [
    "df.describe()"
   ]
  },
  {
   "cell_type": "markdown",
   "id": "16eb5c8d",
   "metadata": {},
   "source": [
    "## Categorical Value Counts"
   ]
  },
  {
   "cell_type": "code",
   "execution_count": null,
   "id": "8e55afa3",
   "metadata": {},
   "outputs": [],
   "source": [
    "for col in ['Old/New','Duration','County','Town/City']:\n",
    "    print(col, df[col].value_counts(), sep=':\\n', end='\\n\\n')"
   ]
  },
  {
   "cell_type": "markdown",
   "id": "dd463f77",
   "metadata": {},
   "source": [
    "## Price Distribution"
   ]
  },
  {
   "cell_type": "code",
   "execution_count": null,
   "id": "917b790f",
   "metadata": {},
   "outputs": [],
   "source": [
    "plt.figure(figsize=(10,6))\n",
    "sns.histplot(df['Price'], bins=50, kde=True)\n",
    "plt.title('Price Distribution')\n",
    "plt.show()"
   ]
  },
  {
   "cell_type": "markdown",
   "id": "2c8c3c75",
   "metadata": {},
   "source": [
    "## Time Trends"
   ]
  },
  {
   "cell_type": "code",
   "execution_count": null,
   "id": "0153566f",
   "metadata": {},
   "outputs": [],
   "source": [
    "plt.figure(figsize=(10,5))\n",
    "avg_year = df.groupby('Year')['Price'].mean()\n",
    "avg_year.plot(marker='o')\n",
    "plt.title('Avg Price by Year')\n",
    "plt.show()\n",
    "\n",
    "plt.figure(figsize=(12,6))\n",
    "df['YearMonth'] = pd.to_datetime(df['Date of Transfer']).dt.to_period('M')\n",
    "avg_ym = df.groupby('YearMonth')['Price'].mean()\n",
    "avg_ym.plot()\n",
    "plt.title('Avg Price by Year-Month')\n",
    "plt.xticks(rotation=45)\n",
    "plt.show()"
   ]
  }
 ],
 "metadata": {
  "kernelspec": {
   "display_name": "Python 3",
   "language": "python",
   "name": "python3"
  },
  "language_info": {
   "codemirror_mode": {
    "name": "ipython",
    "version": 3
   },
   "file_extension": ".py",
   "mimetype": "text/x-python",
   "name": "python",
   "nbconvert_exporter": "python",
   "pygments_lexer": "ipython3",
   "version": "3.12.1"
  }
 },
 "nbformat": 4,
 "nbformat_minor": 5
}
