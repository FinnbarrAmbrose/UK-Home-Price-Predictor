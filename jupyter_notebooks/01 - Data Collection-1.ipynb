{
  "cells": [
    {
      "cell_type": "markdown",
      "metadata": {
        "id": "0aStgWSO0E0E"
      },
      "source": [
        "# 01 – Data Collection & Raw Data Ingestion  \n",
        "**CRISP-DM Phase 1: Business Understanding**  \n",
        "This notebook defines stakeholder goals, outlines success criteria, and pulls the raw Price-Paid data from Kaggle for downstream use.\n"
      ]
    },
    {
      "cell_type": "markdown",
      "metadata": {
        "id": "1eLEkw5O0ECa"
      },
      "source": [
        "## Objectives\n",
        "\n",
        "* Download housing data from Kaggle using authentication.\n",
        "\n",
        "* Store the raw data in the correct directory: inputs/datasets/raw/.\n",
        "\n",
        "* Review the downloaded files to confirm they are complete and usable.\n",
        "\n",
        "* Save cleaned copies of the datasets in: outputs/datasets/collection/.\n",
        "\n",
        "## Inputs\n",
        "\n",
        "* Kaggle API JSON file: Used to authenticate access to the dataset on Kaggle.\n",
        "\n",
        "## Outputs\n",
        "\n",
        "* inputs/datasets/raw/house-price-20211124T154130Z-001/house-price/house_prices_records.csv\n",
        "\n",
        "* inputs/datasets/raw/house-price-20211124T154130Z-001/house-price/inherited_houses.csv\n",
        "\n",
        "* inputs/datasets/raw/house-metadata.txt\n",
        "\n",
        "* outputs/datasets/collection/HousePricesRecords.csv\n",
        "\n",
        "* outputs/datasets/collection/InheritedHouses.csv\n",
        "\n",
        "## Additional Comments\n",
        "\n",
        "### Business Requirements Addressed\n",
        "* BR1: The client wants to understand how different house features (e.g., size, location, condition) affect sale prices in Ames, Iowa. She expects visualizations that clearly show these relationships.\n",
        "\n",
        "* BR2: The client owns four inherited properties. She wants to predict their potential sale prices as well as understand the market value of other properties in Ames.\n",
        "\n",
        "### Additional Notes\n",
        "* HousePricesRecords.csv (in outputs/datasets/collection/) will be used to create data visualizations that show trends between house features and prices.\n",
        "\n",
        "* InheritedHouses.csv (in outputs/datasets/collection/) includes the specific properties the client owns. These will be passed to the prediction model to estimate their expected sale prices."
      ]
    },
    {
      "cell_type": "markdown",
      "metadata": {
        "id": "9uWZXH9LwoQg"
      },
      "source": [
        "---"
      ]
    },
    {
      "cell_type": "markdown",
      "metadata": {},
      "source": [
        "### Confirm Working Directory\n",
        "This cell imports Python’s built-in `os` module and uses `os.getcwd()` to retrieve and display the notebook’s current working directory.  \n",
        "Knowing the exact working directory helps ensure that all subsequent file reads/writes use the correct paths relative to your project root."
      ]
    },
    {
      "cell_type": "code",
      "execution_count": null,
      "metadata": {
        "id": "wZfF_j-Bz3i4",
        "outputId": "66943449-1436-4c3d-85c7-b85f9f78349b"
      },
      "outputs": [],
      "source": [
        "import os\n",
        "current_dir = os.getcwd()\n",
        "current_dir"
      ]
    },
    {
      "cell_type": "markdown",
      "metadata": {
        "id": "9MWW8E7lz3i7"
      },
      "source": [
        "### Set Project Root as Working Directory\n",
        "This cell moves the notebook’s working directory up one level—typically to your project root—so that all subsequent file paths (e.g. `inputs/…` and `outputs/…`) resolve correctly.  \n"
      ]
    },
    {
      "cell_type": "code",
      "execution_count": null,
      "metadata": {
        "id": "TwHsQRWjz3i9",
        "outputId": "86849db3-cd2f-4cc5-ebb8-2d0caafa1a2c"
      },
      "outputs": [],
      "source": [
        "os.chdir(os.path.dirname(current_dir))\n",
        "print(\"You set a new current directory\")"
      ]
    },
    {
      "cell_type": "markdown",
      "metadata": {
        "id": "M_xPk_Ijz3i-"
      },
      "source": [
        "### Confirm Updated Working Directory  \n",
        "This cell calls `os.getcwd()` again to retrieve and display the notebook’s current working directory, ensuring that the previous `os.chdir(...)` call successfully changed the context to your project root.\n"
      ]
    },
    {
      "cell_type": "code",
      "execution_count": null,
      "metadata": {
        "id": "vz3S-_kjz3jA",
        "outputId": "00b79ae4-75d0-4a96-d193-ac9ef9847ea2"
      },
      "outputs": [],
      "source": [
        "current_dir = os.getcwd()\n",
        "current_dir"
      ]
    },
    {
      "cell_type": "markdown",
      "metadata": {
        "id": "-mavJ8DibrcQ"
      },
      "source": [
        "## Kaggle"
      ]
    },
    {
      "cell_type": "markdown",
      "metadata": {},
      "source": [
        "Kaggle API\n",
        "This downloads the UK Housing Prices Paid dataset from Kaggle using the Kaggle API. "
      ]
    },
    {
      "cell_type": "code",
      "execution_count": null,
      "metadata": {},
      "outputs": [],
      "source": [
        "%pip install kaggle==1.5.12"
      ]
    },
    {
      "cell_type": "markdown",
      "metadata": {},
      "source": [
        "this code sets up the environment for Kaggle API access. It tells Python where to find the kaggle.json"
      ]
    },
    {
      "cell_type": "code",
      "execution_count": null,
      "metadata": {},
      "outputs": [],
      "source": [
        "import os\n",
        "os.environ['KAGGLE_CONFIG_DIR'] = os.getcwd()\n",
        "! chmod 600 kaggle.json"
      ]
    },
    {
      "cell_type": "markdown",
      "metadata": {},
      "source": [
        "This code sets the dataset path (KaggleDatasetPath) for the UK housing prices dataset and the local folder (DestinationFolder) where the dataset will be saved. It then uses the Kaggle API command to download the dataset into the specified folder."
      ]
    },
    {
      "cell_type": "code",
      "execution_count": null,
      "metadata": {},
      "outputs": [],
      "source": [
        "KaggleDatasetPath = \"hm-land-registry/uk-housing-prices-paid\"\n",
        "DestinationFolder = \"inputs/datasets/raw\"   \n",
        "! kaggle datasets download -d {KaggleDatasetPath} -p {DestinationFolder}"
      ]
    },
    {
      "cell_type": "markdown",
      "metadata": {},
      "source": [
        "This command unzips the downloaded .zip file into the same folder, then deletes the original .zip file and the kaggle.json API key file to keep the workspace clean and organized."
      ]
    },
    {
      "cell_type": "code",
      "execution_count": null,
      "metadata": {},
      "outputs": [],
      "source": [
        "! unzip {DestinationFolder}/*.zip -d {DestinationFolder} \\\n",
        "  && rm {DestinationFolder}/*.zip \\\n",
        "  && rm kaggle.json"
      ]
    },
    {
      "cell_type": "markdown",
      "metadata": {},
      "source": [
        "### Load a Sample of the Raw Dataset  \n",
        "This cell loads the first 1 000 rows of the Price-Paid Records CSV into a pandas DataFrame for quick inspection and development. By reading only a subset, you can test your cleaning and analysis steps without waiting on the full (~29 M-row) file.\n",
        "\n",
        "- `pd.read_csv(..., nrows=1000)` reads only the first 1 000 rows of the specified CSV.  \n"
      ]
    },
    {
      "cell_type": "code",
      "execution_count": null,
      "metadata": {},
      "outputs": [],
      "source": [
        "import pandas as pd\n",
        "\n",
        "df_chunk = pd.read_csv(\"inputs/datasets/raw/price_paid_records.csv\", nrows=1000)\n",
        "df_chunk.head()\n"
      ]
    },
    {
      "cell_type": "markdown",
      "metadata": {},
      "source": [
        "### Check Raw Data Files  \n",
        "This cell verifies that the raw CSV file(s) have been downloaded into the expected `inputs/datasets/raw/` directory. It walks the directory tree and prints each filename with its full path so you can confirm the data is in place before proceeding."
      ]
    },
    {
      "cell_type": "code",
      "execution_count": null,
      "metadata": {},
      "outputs": [],
      "source": [
        "# Check what files were downloaded\n",
        "import os\n",
        "for root, dirs, files in os.walk(\"inputs/datasets/raw\"):\n",
        "    for name in files:\n",
        "        print(os.path.join(root, name))\n"
      ]
    },
    {
      "cell_type": "markdown",
      "metadata": {},
      "source": [
        "### Check Cleaned Output Files\n",
        "\n",
        "This code checks whether the cleaned and processed data files were saved correctly in the `outputs/datasets/collection` folder. It ensures that your cleaning process worked and the results were stored in the right place.\n"
      ]
    },
    {
      "cell_type": "code",
      "execution_count": null,
      "metadata": {},
      "outputs": [],
      "source": [
        "# Create collection folder for cleaned data outputs\n",
        "os.makedirs(\"outputs/datasets/collection\", exist_ok=True)\n",
        "print(\"outputs/datasets/collection/ created\")"
      ]
    }
  ],
  "metadata": {
    "accelerator": "GPU",
    "colab": {
      "name": "Data Practitioner Jupyter Notebook.ipynb",
      "provenance": [],
      "toc_visible": true
    },
    "kernelspec": {
      "display_name": "Python 3",
      "language": "python",
      "name": "python3"
    },
    "language_info": {
      "codemirror_mode": {
        "name": "ipython",
        "version": 3
      },
      "file_extension": ".py",
      "mimetype": "text/x-python",
      "name": "python",
      "nbconvert_exporter": "python",
      "pygments_lexer": "ipython3",
      "version": "3.12.1"
    },
    "orig_nbformat": 2
  },
  "nbformat": 4,
  "nbformat_minor": 2
}
