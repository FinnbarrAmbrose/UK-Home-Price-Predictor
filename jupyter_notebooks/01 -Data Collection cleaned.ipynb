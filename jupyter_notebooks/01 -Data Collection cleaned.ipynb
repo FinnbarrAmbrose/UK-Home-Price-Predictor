{
 "cells": [
  {
   "cell_type": "markdown",
   "metadata": {
    "id": "0aStgWSO0E0E"
   },
   "source": [
    "# UK House Price Estimator - Data Collection\n",
    "\n",
    "\n",
    "## Objective\n",
    "Collect and load the cleaned housing dataset to prepare for analysis and machine learning.\n",
    "\n",
    "## Input\n",
    "- `HousePricesRecords_clean.csv`: A cleaned CSV file containing house sale transactions in the UK.\n",
    "\n",
    "## Output\n",
    "- A pandas DataFrame loaded from the CSV.\n",
    "- Preview of the dataset with basic shape and head information.\n",
    "- Column checks to ensure expected structure.\n",
    "\n",
    "The dataset is used to explore features such as:\n",
    "- Date of transfer\n",
    "- Property type\n",
    "- New build status\n",
    "- County\n",
    "- Sale price\n"
   ]
  },
  {
   "cell_type": "markdown",
   "metadata": {
    "id": "1eLEkw5O0ECa"
   },
   "source": [
    "## Objectives\n",
    "\n",
    "* Download housing data from Kaggle using authentication.\n",
    "\n",
    "* Store the raw data in the correct directory: inputs/datasets/raw/.\n",
    "\n",
    "* Review the downloaded files to confirm they are complete and usable.\n",
    "\n",
    "* Save cleaned copies of the datasets in: outputs/datasets/collection/.\n",
    "\n",
    "## Inputs\n",
    "\n",
    "* Kaggle API JSON file: Used to authenticate access to the dataset on Kaggle.\n",
    "\n",
    "## Outputs\n",
    "\n",
    "* inputs/datasets/raw/house-price-20211124T154130Z-001/house-price/house_prices_records.csv\n",
    "\n",
    "* inputs/datasets/raw/house-price-20211124T154130Z-001/house-price/inherited_houses.csv\n",
    "\n",
    "* inputs/datasets/raw/house-metadata.txt\n",
    "\n",
    "* outputs/datasets/collection/HousePricesRecords.csv\n",
    "\n",
    "* outputs/datasets/collection/InheritedHouses.csv\n",
    "\n",
    "## Additional Comments\n",
    "\n",
    "### Business Requirements Addressed\n",
    "BR1: The client wants to understand how different house features (e.g., size, location, condition) affect sale prices in Ames, Iowa. She expects visualizations that clearly show these relationships.\n",
    "\n",
    "BR2: The client owns four inherited properties. She wants to predict their potential sale prices as well as understand the market value of other properties in Ames.\n",
    "\n",
    "### Additional Notes\n",
    "HousePricesRecords.csv (in outputs/datasets/collection/) will be used to create data visualizations that show trends between house features and prices. \n",
    "InheritedHouses.csv (in outputs/datasets/collection/) includes the specific properties the client owns. These will be passed to the prediction model to estimate their expected sale prices."
   ]
  }
 ],
 "metadata": {
  "accelerator": "GPU",
  "colab": {
   "name": "Data Practitioner Jupyter Notebook.ipynb",
   "provenance": [],
   "toc_visible": true
  },
  "kernelspec": {
   "display_name": "Python 3",
   "language": "python",
   "name": "python3"
  },
  "language_info": {
   "codemirror_mode": {
    "name": "ipython",
    "version": 3
   },
   "file_extension": ".py",
   "mimetype": "text/x-python",
   "name": "python",
   "nbconvert_exporter": "python",
   "pygments_lexer": "ipython3",
   "version": "3.12.1"
  }
 },
 "nbformat": 4,
 "nbformat_minor": 2
}
