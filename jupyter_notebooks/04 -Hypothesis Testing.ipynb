{
 "cells": [
  {
   "cell_type": "markdown",
   "id": "e8a0a2e8",
   "metadata": {},
   "source": [
    "# UK House Price Estimator - Hypothesis Testing\n",
    "\n",
    "\n",
    "## Objective\n",
    "Use statistical testing to explore whether new builds have a significant impact on house prices.\n",
    "\n",
    "## Input\n",
    "- `HousePricesRecords_clean.csv`: Cleaned dataset of UK house sales.\n",
    "\n",
    "## Output\n",
    "- Welch's t-test results comparing new vs. old properties.\n",
    "- Statistical conclusion about price differences between new and established homes.\n",
    "\n",
    "## Key Hypothesis\n",
    "**H₁:** New builds are significantly more expensive than established properties.\n"
   ]
  }
 ],
 "metadata": {
  "kernelspec": {
   "display_name": "Python 3",
   "language": "python",
   "name": "python3"
  },
  "language_info": {
   "codemirror_mode": {
    "name": "ipython",
    "version": 3
   },
   "file_extension": ".py",
   "mimetype": "text/x-python",
   "name": "python",
   "nbconvert_exporter": "python",
   "pygments_lexer": "ipython3",
   "version": "3.12.1"
  }
 },
 "nbformat": 4,
 "nbformat_minor": 5
}
