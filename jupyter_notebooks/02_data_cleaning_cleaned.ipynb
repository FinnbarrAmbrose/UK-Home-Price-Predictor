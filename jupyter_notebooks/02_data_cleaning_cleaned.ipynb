{
 "cells": [
  {
   "cell_type": "markdown",
   "id": "549a5fed",
   "metadata": {},
   "source": [
    "# UK House Price Estimator - Data Cleaning\n",
    "\n",
    "t.\n",
    "\n",
    "## Objective\n",
    "Prepare the housing data for analysis and modeling by cleaning and formatting key features.\n",
    "\n",
    "## Input\n",
    "- `HousePricesRecords.csv`: Raw dataset of UK house sales.\n",
    "\n",
    "## Output\n",
    "- A cleaned version of the dataset saved as `HousePricesRecords_clean.csv`.\n",
    "- Data formatted and structured for use in EDA and modeling stages.\n",
    "\n",
    "## Key Cleaning Steps\n",
    "- Checked for missing values in key columns like `Price` and `Date of Transfer`\n",
    "- Converted `Date of Transfer` column to datetime format\n",
    "- Standardized column names and formats\n",
    "- Filtered dataset to include only relevant property transactions\n"
   ]
  }
 ],
 "metadata": {
  "kernelspec": {
   "display_name": "Python 3",
   "language": "python",
   "name": "python3"
  },
  "language_info": {
   "codemirror_mode": {
    "name": "ipython",
    "version": 3
   },
   "file_extension": ".py",
   "mimetype": "text/x-python",
   "name": "python",
   "nbconvert_exporter": "python",
   "pygments_lexer": "ipython3",
   "version": "3.12.1"
  }
 },
 "nbformat": 4,
 "nbformat_minor": 5
}
